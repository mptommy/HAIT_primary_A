{
 "cells": [
  {
   "cell_type": "code",
   "execution_count": 3,
   "metadata": {},
   "outputs": [
    {
     "name": "stdout",
     "output_type": "stream",
     "text": [
      "              英単語                                      訳\n",
      "0         ability                                     能力\n",
      "1            able                              〜することができる\n",
      "2           about                                  ～について\n",
      "3           above                                   〜の上に\n",
      "4        absolute                               絶対的な；完全な\n",
      "...           ...                                    ...\n",
      "2846       widely                         【副】広く；広範囲に；大いに\n",
      "2847         bore                                  退屈させる\n",
      "2848         fall                                     落下\n",
      "2849       e-mail  【名】電子メール【動/自/他】電子メールを送る, （…を）電子メールで送る\n",
      "2850  quintillion                                      京\n",
      "\n",
      "[2851 rows x 2 columns]\n"
     ]
    }
   ],
   "source": [
    "import pandas as pd\n",
    "\n",
    "dict = pd.read_csv('database/NGSL.csv', usecols=['英単語', '訳'])\n",
    "print(dict)\n",
    "#辞書の読み込み"
   ]
  },
  {
   "cell_type": "code",
   "execution_count": 5,
   "metadata": {},
   "outputs": [
    {
     "data": {
      "text/html": [
       "<div>\n",
       "<style scoped>\n",
       "    .dataframe tbody tr th:only-of-type {\n",
       "        vertical-align: middle;\n",
       "    }\n",
       "\n",
       "    .dataframe tbody tr th {\n",
       "        vertical-align: top;\n",
       "    }\n",
       "\n",
       "    .dataframe thead th {\n",
       "        text-align: right;\n",
       "    }\n",
       "</style>\n",
       "<table border=\"1\" class=\"dataframe\">\n",
       "  <thead>\n",
       "    <tr style=\"text-align: right;\">\n",
       "      <th></th>\n",
       "      <th>英単語</th>\n",
       "      <th>訳</th>\n",
       "    </tr>\n",
       "  </thead>\n",
       "  <tbody>\n",
       "    <tr>\n",
       "      <th>4</th>\n",
       "      <td>absolute</td>\n",
       "      <td>絶対的な；完全な</td>\n",
       "    </tr>\n",
       "  </tbody>\n",
       "</table>\n",
       "</div>"
      ],
      "text/plain": [
       "        英単語         訳\n",
       "4  absolute  絶対的な；完全な"
      ]
     },
     "execution_count": 5,
     "metadata": {},
     "output_type": "execute_result"
    }
   ],
   "source": [
    "word = 'absolute'\n",
    "\n",
    "flashcard = dict[dict[\"英単語\"] == word]\n",
    "flashcard"
   ]
  },
  {
   "cell_type": "code",
   "execution_count": null,
   "metadata": {},
   "outputs": [],
   "source": []
  }
 ],
 "metadata": {
  "kernelspec": {
   "display_name": "Python 3",
   "language": "python",
   "name": "python3"
  },
  "language_info": {
   "codemirror_mode": {
    "name": "ipython",
    "version": 3
   },
   "file_extension": ".py",
   "mimetype": "text/x-python",
   "name": "python",
   "nbconvert_exporter": "python",
   "pygments_lexer": "ipython3",
   "version": "3.8.3"
  }
 },
 "nbformat": 4,
 "nbformat_minor": 4
}
