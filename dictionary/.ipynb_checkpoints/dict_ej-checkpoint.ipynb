{
 "cells": [
  {
   "cell_type": "markdown",
   "metadata": {},
   "source": [
    "# 英単語を原形に変換し、和訳を付けるプログラム"
   ]
  },
  {
   "cell_type": "markdown",
   "metadata": {},
   "source": [
    "## 必要なライブラリをインポート"
   ]
  },
  {
   "cell_type": "code",
   "execution_count": 110,
   "metadata": {},
   "outputs": [],
   "source": [
    "import sqlite3\n",
    "from nltk.stem import WordNetLemmatizer"
   ]
  },
  {
   "cell_type": "code",
   "execution_count": 111,
   "metadata": {},
   "outputs": [
    {
     "name": "stderr",
     "output_type": "stream",
     "text": [
      "[nltk_data] Downloading package wordnet to\n",
      "[nltk_data]     /Users/takaharu/nltk_data...\n",
      "[nltk_data]   Package wordnet is already up-to-date!\n"
     ]
    },
    {
     "data": {
      "text/plain": [
       "True"
      ]
     },
     "execution_count": 111,
     "metadata": {},
     "output_type": "execute_result"
    }
   ],
   "source": [
    "import nltk\n",
    "nltk.download('wordnet')"
   ]
  },
  {
   "cell_type": "markdown",
   "metadata": {},
   "source": [
    "## プログラム本体"
   ]
  },
  {
   "cell_type": "code",
   "execution_count": 117,
   "metadata": {},
   "outputs": [],
   "source": [
    "word = 'Pythons' #入力"
   ]
  },
  {
   "cell_type": "code",
   "execution_count": 118,
   "metadata": {},
   "outputs": [
    {
     "name": "stdout",
     "output_type": "stream",
     "text": [
      "[('python', 'ニシキヘビ(アフリカ・アジア・オーストラリア産の無毒の大蛇),プログラミング言語の名前')]\n"
     ]
    }
   ],
   "source": [
    "lemmatizer = WordNetLemmatizer()\n",
    "\n",
    "# 辞書データベースに接続\n",
    "conn = sqlite3.connect(\"database/ejdict.sqlite3\")\n",
    "c = conn.cursor()\n",
    "\n",
    "word = word.lower() #小文字に直す\n",
    "\n",
    "#品詞を検出できれば理想だが、手段が見つからないので、全ての品詞として見出語化を試す=>辞書にあれば出力という手段を用いた。\n",
    "#nltk.pos_tagを試したが、文章の中に出てきた単語しか品詞を検出できないようだ。（多分）\n",
    "\n",
    "\n",
    "#見出語に変換し、和訳を出力する関数\n",
    "def lem_dict(word, p): #pは見出語化する時に品詞を指定する引数('v'なら動詞、'n'なら名詞、'a'なら形容詞、'r'なら副詞)\n",
    "    word_lm = (lemmatizer.lemmatize(word, pos=p),)\n",
    "    c.execute('SELECT word, mean FROM items WHERE word=?',word_lm) #データベースから呼び出し\n",
    "    return(c.fetchall())\n",
    "\n",
    "\n",
    "if lem_dict(word, 'v'):\n",
    "    out = lem_dict(word, 'v')\n",
    "    print(out)\n",
    "\n",
    "elif lem_dict(word, 'n'):\n",
    "    out = lem_dict(word, 'n')\n",
    "    print(out)\n",
    "    \n",
    "elif lem_dict(word, 'a'):\n",
    "    out = lem_dict(word, 'a')\n",
    "    print(out)\n",
    "    \n",
    "elif lem_dict(word, 'r'):\n",
    "    out = lem_dict(word, 'r')\n",
    "    print(out)\n",
    "    \n",
    "else:\n",
    "    out = 'ERROR'\n",
    "    print(out)\n",
    "\n",
    "    \n",
    "#outで訳を出力"
   ]
  },
  {
   "cell_type": "code",
   "execution_count": null,
   "metadata": {},
   "outputs": [],
   "source": []
  }
 ],
 "metadata": {
  "kernelspec": {
   "display_name": "Python 3",
   "language": "python",
   "name": "python3"
  },
  "language_info": {
   "codemirror_mode": {
    "name": "ipython",
    "version": 3
   },
   "file_extension": ".py",
   "mimetype": "text/x-python",
   "name": "python",
   "nbconvert_exporter": "python",
   "pygments_lexer": "ipython3",
   "version": "3.8.3"
  }
 },
 "nbformat": 4,
 "nbformat_minor": 4
}
